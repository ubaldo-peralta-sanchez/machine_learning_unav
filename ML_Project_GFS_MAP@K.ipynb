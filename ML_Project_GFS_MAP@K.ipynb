{
 "cells": [
  {
   "cell_type": "markdown",
   "id": "extensive-surge",
   "metadata": {},
   "source": [
    "### Machine Learning\n",
    "#### MAP@K for ```K=7```\n",
    "\n",
    "* Gonzalo Fuertes Sémelas\n",
    "* Álvaro Pérez Trasancos\n",
    "* Miguel Chacón Maldonado\n",
    "* Ubaldo Peralta Sánchez\n",
    "* Álvaro Nicholas García Crawford\n",
    "* Miguel López Melgar"
   ]
  },
  {
   "cell_type": "markdown",
   "id": "acknowledged-circumstances",
   "metadata": {},
   "source": [
    "Load the predictions attached in the original handing, as well as the solutions:"
   ]
  },
  {
   "cell_type": "code",
   "execution_count": 1,
   "id": "impressive-general",
   "metadata": {},
   "outputs": [],
   "source": [
    "import pandas as pd\n",
    "\n",
    "# Load CSV with the predictions (\"preds\") and CSV with the solutions (\"actual\")\n",
    "preds = pd.read_csv('predictions.csv')\n",
    "actual = pd.read_csv('../soluciones.csv')"
   ]
  },
  {
   "cell_type": "markdown",
   "id": "annoying-seafood",
   "metadata": {},
   "source": [
    "Create dictionaries with ```cod_persona``` as keys and a list of the contracted products as values, both for ```preds``` and ```actual```:"
   ]
  },
  {
   "cell_type": "code",
   "execution_count": 2,
   "id": "together-shopper",
   "metadata": {},
   "outputs": [],
   "source": [
    "def reverse_onehot(row):\n",
    "    prods = []\n",
    "    for target in targets:\n",
    "        if row[target] == 1:\n",
    "            prods.append(target)\n",
    "    return prods\n",
    "\n",
    "targets = [col for col in preds.columns if 'ind_prod' in col]\n",
    "\n",
    "# Create dictionary with the predictions\n",
    "preds_byclient = preds.apply(reverse_onehot, axis=1)\n",
    "preds_byclient.index = preds['cod_persona']\n",
    "preds_byclient = preds_byclient.to_dict()\n",
    "\n",
    "# Create dictionary with the solutions\n",
    "actual_byclient = actual.apply(reverse_onehot, axis=1)\n",
    "actual_byclient.index = actual['cod_persona']\n",
    "actual_byclient = actual_byclient.to_dict()"
   ]
  },
  {
   "cell_type": "markdown",
   "id": "everyday-opinion",
   "metadata": {},
   "source": [
    "In order to properly compare the predictions with the solutions, the values of the dictionaries are ordered by the key and their values converted to lists:"
   ]
  },
  {
   "cell_type": "code",
   "execution_count": 3,
   "id": "atomic-victoria",
   "metadata": {},
   "outputs": [],
   "source": [
    "# Reorder dictionaries keys\n",
    "preds_sorted = list(dict(sorted(preds_byclient.items())).values())\n",
    "actual_sorted = list(dict(sorted(actual_byclient.items())).values())"
   ]
  },
  {
   "cell_type": "markdown",
   "id": "equipped-windsor",
   "metadata": {},
   "source": [
    "The evaluation is going to be made through the metric MAP@K. Here this metric is defined:"
   ]
  },
  {
   "cell_type": "code",
   "execution_count": 4,
   "id": "painful-reference",
   "metadata": {},
   "outputs": [],
   "source": [
    "def apk(actual, predicted, k):\n",
    "    if len(predicted) > k:\n",
    "        predicted = predicted[:k]\n",
    "    score = 0\n",
    "    num_hits = 0\n",
    "    for i, p in enumerate(predicted):\n",
    "        if p in actual and p not in predicted[:i]:\n",
    "            num_hits += 1\n",
    "            score += num_hits / (i + 1)\n",
    "    if not actual:\n",
    "        if not predicted:\n",
    "            return 1\n",
    "        else:\n",
    "            return 0\n",
    "    return score / min(len(actual), k)\n",
    "\n",
    "def mapk(actual, predicted, k):\n",
    "    from numpy import mean\n",
    "    return mean([apk(a, p, k) for a, p in zip(actual, predicted)])"
   ]
  },
  {
   "cell_type": "markdown",
   "id": "matched-toner",
   "metadata": {},
   "source": [
    "Metric applied for ```K=7```:"
   ]
  },
  {
   "cell_type": "code",
   "execution_count": 5,
   "id": "arctic-bulletin",
   "metadata": {},
   "outputs": [
    {
     "data": {
      "text/plain": [
       "0.866297175189556"
      ]
     },
     "execution_count": 5,
     "metadata": {},
     "output_type": "execute_result"
    }
   ],
   "source": [
    "metric_results = mapk(actual_sorted, preds_sorted, 7)\n",
    "metric_results"
   ]
  },
  {
   "cell_type": "code",
   "execution_count": null,
   "id": "under-noise",
   "metadata": {},
   "outputs": [],
   "source": []
  }
 ],
 "metadata": {
  "kernelspec": {
   "display_name": "Python 3",
   "language": "python",
   "name": "python3"
  },
  "language_info": {
   "codemirror_mode": {
    "name": "ipython",
    "version": 3
   },
   "file_extension": ".py",
   "mimetype": "text/x-python",
   "name": "python",
   "nbconvert_exporter": "python",
   "pygments_lexer": "ipython3",
   "version": "3.7.9"
  }
 },
 "nbformat": 4,
 "nbformat_minor": 5
}
