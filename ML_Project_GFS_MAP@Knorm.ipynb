{
 "cells": [
  {
   "cell_type": "markdown",
   "metadata": {},
   "source": [
    "### Machine Learning\n",
    "#### MAP@K for ```K=7```\n",
    "\n",
    "* Gonzalo Fuertes Sémelas\n",
    "* Álvaro Pérez Trasancos\n",
    "* Miguel Chacón Maldonado\n",
    "* Ubaldo Peralta Sánchez\n",
    "* Álvaro Nicholas García Crawford\n",
    "* Miguel López Melgar"
   ]
  },
  {
   "cell_type": "markdown",
   "metadata": {},
   "source": [
    "Load the predictions attached in the original handing, as well as the solutions:"
   ]
  },
  {
   "cell_type": "code",
   "execution_count": 1,
   "metadata": {},
   "outputs": [],
   "source": [
    "import pandas as pd\n",
    "\n",
    "# Load CSV with the predictions (\"preds\") and CSV with the solutions (\"actual\")\n",
    "preds = pd.read_csv('predictions.csv')\n",
    "actual = pd.read_csv('../soluciones.csv')\n",
    "\n",
    "# List of products\n",
    "targets = [col for col in preds.columns if 'ind_prod' in col]"
   ]
  },
  {
   "cell_type": "markdown",
   "metadata": {},
   "source": [
    "Create Series with ```cod_persona``` as index and a list of the contracted products as values, both for ```preds``` and ```actual```. Then merge both Series in a dataframe and drop the rows with empty lists in the solutions."
   ]
  },
  {
   "cell_type": "code",
   "execution_count": 2,
   "metadata": {},
   "outputs": [],
   "source": [
    "def reverse_onehot(row):\n",
    "    prods = []\n",
    "    for target in targets:\n",
    "        if row[target] == 1:\n",
    "            prods.append(target)\n",
    "    return prods\n",
    "\n",
    "# Create Series with the predictions (with 'cod_persona' as index)\n",
    "preds_byclient = preds.apply(reverse_onehot, axis=1)\n",
    "preds_byclient.index = preds['cod_persona']\n",
    "\n",
    "# Create Series with the solutions (with 'cod_persona' as index)\n",
    "actual_byclient = actual.apply(reverse_onehot, axis=1)\n",
    "actual_byclient.index = actual['cod_persona']\n",
    "\n",
    "# Join Series by 'cod_persona'\n",
    "ps = actual_byclient.to_frame('Solutions').merge(preds_byclient.to_frame('Predictions'), left_index=True, right_index=True)"
   ]
  },
  {
   "cell_type": "markdown",
   "metadata": {},
   "source": [
    "The evaluation is going to be made through the metric MAP@K. Here this metric is defined:"
   ]
  },
  {
   "cell_type": "code",
   "execution_count": 3,
   "metadata": {},
   "outputs": [],
   "source": [
    "def apk(actual, predicted, k):\n",
    "    if len(predicted) > k:\n",
    "        predicted = predicted[:k]\n",
    "    score = 0\n",
    "    num_hits = 0\n",
    "    for i, p in enumerate(predicted):\n",
    "        if p in actual and p not in predicted[:i]:\n",
    "            num_hits += 1\n",
    "            score += num_hits / (i + 1)\n",
    "    if not actual:\n",
    "        return 0\n",
    "    return score / min(len(actual), k)\n",
    "\n",
    "def mapk(actual, predicted, k):\n",
    "    from numpy import mean\n",
    "    return mean([apk(a, p, k) for a, p in zip(actual, predicted)])"
   ]
  },
  {
   "cell_type": "markdown",
   "metadata": {},
   "source": [
    "Metric applied for ```K=7``` and normalized over the solutions with themselves:"
   ]
  },
  {
   "cell_type": "code",
   "execution_count": 4,
   "metadata": {},
   "outputs": [
    {
     "data": {
      "text/plain": [
       "0.20050257129499763"
      ]
     },
     "execution_count": 4,
     "metadata": {},
     "output_type": "execute_result"
    }
   ],
   "source": [
    "metric_actual = mapk(ps['Solutions'], ps['Solutions'], 7)\n",
    "metric_preds = mapk(ps['Solutions'], ps['Predictions'], 7)\n",
    "\n",
    "metric_results = metric_preds / metric_actual\n",
    "metric_results"
   ]
  },
  {
   "cell_type": "code",
   "execution_count": null,
   "metadata": {},
   "outputs": [],
   "source": []
  }
 ],
 "metadata": {
  "kernelspec": {
   "display_name": "Python 3",
   "language": "python",
   "name": "python3"
  },
  "language_info": {
   "codemirror_mode": {
    "name": "ipython",
    "version": 3
   },
   "file_extension": ".py",
   "mimetype": "text/x-python",
   "name": "python",
   "nbconvert_exporter": "python",
   "pygments_lexer": "ipython3",
   "version": "3.8.3"
  }
 },
 "nbformat": 4,
 "nbformat_minor": 5
}
